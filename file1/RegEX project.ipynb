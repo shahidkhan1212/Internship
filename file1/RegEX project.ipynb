{
 "cells": [
  {
   "cell_type": "code",
   "execution_count": 305,
   "id": "25347f71-7047-414f-b650-4ac01823eea6",
   "metadata": {},
   "outputs": [
    {
     "data": {
      "text/plain": [
       "'Python:Exercises::PHP:exercises:'"
      ]
     },
     "execution_count": 305,
     "metadata": {},
     "output_type": "execute_result"
    }
   ],
   "source": [
    "import re\n",
    "import pandas\n",
    "sample =  'Python Exercises, PHP exercises.'\n",
    "\n",
    "#Replace all occurrences of a space, comma, or dot with a colon.\n",
    "\n",
    "result =re.sub(r'[ ,/.]',':',sample)\n",
    "result"
   ]
  },
  {
   "cell_type": "code",
   "execution_count": 49,
   "id": "9fd02711-84a1-4c22-bd24-48704e29a2ad",
   "metadata": {},
   "outputs": [
    {
     "name": "stdout",
     "output_type": "stream",
     "text": [
      "         SUMMARY\n",
      "0    hello world\n",
      "1         X test\n",
      "2  four five six\n"
     ]
    }
   ],
   "source": [
    "data = {'SUMMARY': ['hello, world!', 'XXXXX test', '123four, five:; six...']}\n",
    "\n",
    "# Create DataFrame\n",
    "df = pd.DataFrame(data)\n",
    "\n",
    "# Remove everything except words and spaces from the 'SUMMARY' column\n",
    "df['SUMMARY'] = df['SUMMARY'].str.replace(r'[^a-zA-Z\\s]', '', regex=True).str.replace('XXXX', '').str.strip()\n",
    "\n",
    "print(df)\n"
   ]
  },
  {
   "cell_type": "code",
   "execution_count": 55,
   "id": "3617c91e-8061-4a30-a619-52142ada3c63",
   "metadata": {},
   "outputs": [
    {
     "data": {
      "text/plain": [
       "['ever', 'this', 'test', 'word', 'like', 'your']"
      ]
     },
     "execution_count": 55,
     "metadata": {},
     "output_type": "execute_result"
    }
   ],
   "source": [
    "def find_long_word(text):\n",
    "    pattern = re.compile(r'\\b\\w{4}\\b')\n",
    "    return pattern.findall(text)\n",
    "\n",
    "text = 'my computer is fastest computer ever this test word like your'\n",
    "result = find_long_word(text)\n",
    "result"
   ]
  },
  {
   "cell_type": "code",
   "execution_count": 69,
   "id": "324f6ff0-faa7-4d6f-8a1d-a04c00d13a6b",
   "metadata": {},
   "outputs": [
    {
     "data": {
      "text/plain": [
       "['what',\n",
       " 'your',\n",
       " 'name',\n",
       " 'name',\n",
       " 'lived',\n",
       " 'delhi',\n",
       " 'thats',\n",
       " 'goods',\n",
       " 'how',\n",
       " 'are',\n",
       " 'you']"
      ]
     },
     "execution_count": 69,
     "metadata": {},
     "output_type": "execute_result"
    }
   ],
   "source": [
    "def find_length(text):\n",
    "    pattern = re.compile(r'\\b\\w{3,5}\\b')\n",
    "    return pattern.findall(text)\n",
    "\n",
    "text = 'what is your name my name is berline i lived in delhi thats goods how are you'\n",
    "res = find_length(text)\n",
    "res"
   ]
  },
  {
   "cell_type": "code",
   "execution_count": 307,
   "id": "4a4c40cb-d259-493c-bf8c-e743b56d9d6e",
   "metadata": {},
   "outputs": [
    {
     "name": "stdout",
     "output_type": "stream",
     "text": [
      "['example .com', 'hr@fliprobo .com', 'github .com', 'Hello Data Science World', 'Data Scientist']\n"
     ]
    }
   ],
   "source": [
    "def remove_parentheses(text_list):\n",
    "    # Compile regex pattern to match parentheses and their contents\n",
    "    pattern = re.compile(r'\\s*\\((.*?)\\)')\n",
    "    \n",
    "    # Process each string in the list\n",
    "    cleaned_list = []\n",
    "    for text in text_list:\n",
    "        # Find all matches inside parentheses\n",
    "        matches = pattern.findall(text)\n",
    "        # Remove parentheses and their contents\n",
    "        cleaned_text = pattern.sub('', text)\n",
    "        # Concatenate all matches found inside parentheses to the cleaned text\n",
    "        if matches:\n",
    "            cleaned_text += ' ' + ' '.join(matches)\n",
    "        cleaned_list.append(cleaned_text.strip())\n",
    "    \n",
    "    return cleaned_list\n",
    "\n",
    "# Sample text\n",
    "sample_text = [\n",
    "    \"example (.com)\", \n",
    "    \"hr@fliprobo (.com)\", \n",
    "    \"github (.com)\", \n",
    "    \"Hello (Data Science World)\", \n",
    "    \"Data (Scientist)\"\n",
    "]\n",
    "\n",
    "# Apply the function\n",
    "result = remove_parentheses(sample_text)\n",
    "print(result)\n"
   ]
  },
  {
   "cell_type": "code",
   "execution_count": 309,
   "id": "077ff4ae-1aa4-4110-9787-49a7d530eeaf",
   "metadata": {},
   "outputs": [
    {
     "name": "stdout",
     "output_type": "stream",
     "text": [
      "['On August 15th 1947 that India was declared independent from British colonialism, and the reins of control were handed over to the leaders of the Country.']\n"
     ]
    }
   ],
   "source": [
    "def remove_parentheses(file_path):\n",
    "    # Compile the regex pattern to match parentheses and their contents\n",
    "    pattern = re.compile(r'\\s*\\(.*?\\)')\n",
    "    \n",
    "    # Read the content from the file\n",
    "    with open(file_path, 'r') as file:\n",
    "        lines = file.readlines()\n",
    "    \n",
    "    # Process each line to remove parentheses and their contents\n",
    "    cleaned_lines = [pattern.sub('', line).strip() for line in lines]\n",
    "    \n",
    "    # Write the cleaned content back to the file or return the result\n",
    "    with open(file_path, 'w') as file:\n",
    "        file.write('\\n'.join(cleaned_lines))\n",
    "    \n",
    "    return cleaned_lines\n",
    "\n",
    "# File path to the sample text file\n",
    "file_path = 'sample.txt'\n",
    "\n",
    "# Apply the function and print the result\n",
    "result = remove_parentheses_from_file(file_path)\n",
    "print(result)\n"
   ]
  },
  {
   "cell_type": "code",
   "execution_count": 117,
   "id": "bc917b8d-2c33-4e9e-8a3b-7d243c33346d",
   "metadata": {},
   "outputs": [
    {
     "name": "stdout",
     "output_type": "stream",
     "text": [
      "['', 'Importance', 'Of', 'Regular', 'Expressions', 'In', 'Python']\n"
     ]
    }
   ],
   "source": [
    "text = \"ImportanceOfRegularExpressionsInPython\"\n",
    "\n",
    "# Regular expression to split at each uppercase letter (except the first one)\n",
    "result = re.split(r'(?=[A-Z])', text)\n",
    "\n",
    "print(result)\n"
   ]
  },
  {
   "cell_type": "code",
   "execution_count": 119,
   "id": "0d36e4ff-8276-4957-a38e-95f98da421f6",
   "metadata": {},
   "outputs": [
    {
     "name": "stdout",
     "output_type": "stream",
     "text": [
      "RegularExpression 1IsAn 2ImportantTopic 3InPython\n"
     ]
    }
   ],
   "source": [
    "def insert_spaces(text):\n",
    "    return re.sub(r'(\\d)', r' \\1', text)\n",
    "\n",
    "text = \"RegularExpression1IsAn2ImportantTopic3InPython\"\n",
    "\n",
    "# Inserting spaces\n",
    "output = insert_spaces(text)\n",
    "\n",
    "print(output)\n"
   ]
  },
  {
   "cell_type": "code",
   "execution_count": 121,
   "id": "3555dbc8-23c6-4da9-90b4-d2de6f9c19af",
   "metadata": {},
   "outputs": [
    {
     "name": "stdout",
     "output_type": "stream",
     "text": [
      "Regular Expression 1Is An 2Important Topic 3In Python\n"
     ]
    }
   ],
   "source": [
    "def insert_spaces(text):\n",
    "    return re.sub(r'(?<=[a-z])(?=[A-Z0-9])', ' ', text)\n",
    "text = \"RegularExpression1IsAn2ImportantTopic3InPython\"\n",
    "\n",
    "# Inserting spaces\n",
    "output = insert_spaces(text)\n",
    "\n",
    "print(output)\n"
   ]
  },
  {
   "cell_type": "code",
   "execution_count": 185,
   "id": "73893c06-8eb3-4d4b-8ea0-e2e95adecc7c",
   "metadata": {},
   "outputs": [],
   "source": [
    "data = pd.read_csv('https://raw.githubusercontent.com/dsrscientist/DSData/master/happiness_score_dataset.csv')"
   ]
  },
  {
   "cell_type": "code",
   "execution_count": 187,
   "id": "be5271d4-11dd-476a-8155-05439e4606c6",
   "metadata": {},
   "outputs": [
    {
     "data": {
      "text/html": [
       "<div>\n",
       "<style scoped>\n",
       "    .dataframe tbody tr th:only-of-type {\n",
       "        vertical-align: middle;\n",
       "    }\n",
       "\n",
       "    .dataframe tbody tr th {\n",
       "        vertical-align: top;\n",
       "    }\n",
       "\n",
       "    .dataframe thead th {\n",
       "        text-align: right;\n",
       "    }\n",
       "</style>\n",
       "<table border=\"1\" class=\"dataframe\">\n",
       "  <thead>\n",
       "    <tr style=\"text-align: right;\">\n",
       "      <th></th>\n",
       "      <th>Country</th>\n",
       "      <th>Region</th>\n",
       "      <th>Happiness Rank</th>\n",
       "      <th>Happiness Score</th>\n",
       "      <th>Standard Error</th>\n",
       "      <th>Economy (GDP per Capita)</th>\n",
       "      <th>Family</th>\n",
       "      <th>Health (Life Expectancy)</th>\n",
       "      <th>Freedom</th>\n",
       "      <th>Trust (Government Corruption)</th>\n",
       "      <th>Generosity</th>\n",
       "      <th>Dystopia Residual</th>\n",
       "      <th>first_six_letters</th>\n",
       "    </tr>\n",
       "  </thead>\n",
       "  <tbody>\n",
       "    <tr>\n",
       "      <th>0</th>\n",
       "      <td>Switzerland</td>\n",
       "      <td>Western Europe</td>\n",
       "      <td>1</td>\n",
       "      <td>7.587</td>\n",
       "      <td>0.03411</td>\n",
       "      <td>1.39651</td>\n",
       "      <td>1.34951</td>\n",
       "      <td>0.94143</td>\n",
       "      <td>0.66557</td>\n",
       "      <td>0.41978</td>\n",
       "      <td>0.29678</td>\n",
       "      <td>2.51738</td>\n",
       "      <td>Switze</td>\n",
       "    </tr>\n",
       "    <tr>\n",
       "      <th>1</th>\n",
       "      <td>Iceland</td>\n",
       "      <td>Western Europe</td>\n",
       "      <td>2</td>\n",
       "      <td>7.561</td>\n",
       "      <td>0.04884</td>\n",
       "      <td>1.30232</td>\n",
       "      <td>1.40223</td>\n",
       "      <td>0.94784</td>\n",
       "      <td>0.62877</td>\n",
       "      <td>0.14145</td>\n",
       "      <td>0.43630</td>\n",
       "      <td>2.70201</td>\n",
       "      <td>Icelan</td>\n",
       "    </tr>\n",
       "    <tr>\n",
       "      <th>2</th>\n",
       "      <td>Denmark</td>\n",
       "      <td>Western Europe</td>\n",
       "      <td>3</td>\n",
       "      <td>7.527</td>\n",
       "      <td>0.03328</td>\n",
       "      <td>1.32548</td>\n",
       "      <td>1.36058</td>\n",
       "      <td>0.87464</td>\n",
       "      <td>0.64938</td>\n",
       "      <td>0.48357</td>\n",
       "      <td>0.34139</td>\n",
       "      <td>2.49204</td>\n",
       "      <td>Denmar</td>\n",
       "    </tr>\n",
       "    <tr>\n",
       "      <th>3</th>\n",
       "      <td>Norway</td>\n",
       "      <td>Western Europe</td>\n",
       "      <td>4</td>\n",
       "      <td>7.522</td>\n",
       "      <td>0.03880</td>\n",
       "      <td>1.45900</td>\n",
       "      <td>1.33095</td>\n",
       "      <td>0.88521</td>\n",
       "      <td>0.66973</td>\n",
       "      <td>0.36503</td>\n",
       "      <td>0.34699</td>\n",
       "      <td>2.46531</td>\n",
       "      <td>Norway</td>\n",
       "    </tr>\n",
       "    <tr>\n",
       "      <th>4</th>\n",
       "      <td>Canada</td>\n",
       "      <td>North America</td>\n",
       "      <td>5</td>\n",
       "      <td>7.427</td>\n",
       "      <td>0.03553</td>\n",
       "      <td>1.32629</td>\n",
       "      <td>1.32261</td>\n",
       "      <td>0.90563</td>\n",
       "      <td>0.63297</td>\n",
       "      <td>0.32957</td>\n",
       "      <td>0.45811</td>\n",
       "      <td>2.45176</td>\n",
       "      <td>Canada</td>\n",
       "    </tr>\n",
       "  </tbody>\n",
       "</table>\n",
       "</div>"
      ],
      "text/plain": [
       "       Country          Region  Happiness Rank  Happiness Score  \\\n",
       "0  Switzerland  Western Europe               1            7.587   \n",
       "1      Iceland  Western Europe               2            7.561   \n",
       "2      Denmark  Western Europe               3            7.527   \n",
       "3       Norway  Western Europe               4            7.522   \n",
       "4       Canada   North America               5            7.427   \n",
       "\n",
       "   Standard Error  Economy (GDP per Capita)   Family  \\\n",
       "0         0.03411                   1.39651  1.34951   \n",
       "1         0.04884                   1.30232  1.40223   \n",
       "2         0.03328                   1.32548  1.36058   \n",
       "3         0.03880                   1.45900  1.33095   \n",
       "4         0.03553                   1.32629  1.32261   \n",
       "\n",
       "   Health (Life Expectancy)  Freedom  Trust (Government Corruption)  \\\n",
       "0                   0.94143  0.66557                        0.41978   \n",
       "1                   0.94784  0.62877                        0.14145   \n",
       "2                   0.87464  0.64938                        0.48357   \n",
       "3                   0.88521  0.66973                        0.36503   \n",
       "4                   0.90563  0.63297                        0.32957   \n",
       "\n",
       "   Generosity  Dystopia Residual first_six_letters  \n",
       "0     0.29678            2.51738            Switze  \n",
       "1     0.43630            2.70201            Icelan  \n",
       "2     0.34139            2.49204            Denmar  \n",
       "3     0.34699            2.46531            Norway  \n",
       "4     0.45811            2.45176            Canada  "
      ]
     },
     "execution_count": 187,
     "metadata": {},
     "output_type": "execute_result"
    }
   ],
   "source": [
    "df.head()"
   ]
  },
  {
   "cell_type": "code",
   "execution_count": 189,
   "id": "acabc9c2-a1be-4f8f-8b82-df39c36c3447",
   "metadata": {},
   "outputs": [
    {
     "name": "stdout",
     "output_type": "stream",
     "text": [
      "         Country\n",
      "0    Switzerland\n",
      "1        Iceland\n",
      "2        Denmark\n",
      "3         Norway\n",
      "4         Canada\n",
      "..           ...\n",
      "153       Rwanda\n",
      "154        Benin\n",
      "155        Syria\n",
      "156      Burundi\n",
      "157         Togo\n",
      "\n",
      "[158 rows x 1 columns]\n"
     ]
    }
   ],
   "source": [
    "# Create the DataFrame\n",
    "df = pd.DataFrame(data)\n",
    "\n",
    "# Create a new DataFrame with only the 'Country' column\n",
    "df_country_only = df[['Country']]\n",
    "\n",
    "# Display the DataFrame with only the 'Country' column\n",
    "print(df_country_only)\n"
   ]
  },
  {
   "cell_type": "code",
   "execution_count": 191,
   "id": "72a524d6-d2ff-4f88-a612-e07f9011773c",
   "metadata": {},
   "outputs": [
    {
     "name": "stdout",
     "output_type": "stream",
     "text": [
      "         Country first_six_letters\n",
      "0    Switzerland            Switze\n",
      "1        Iceland            Icelan\n",
      "2        Denmark            Denmar\n",
      "3         Norway            Norway\n",
      "4         Canada            Canada\n",
      "..           ...               ...\n",
      "153       Rwanda            Rwanda\n",
      "154        Benin             Benin\n",
      "155        Syria             Syria\n",
      "156      Burundi            Burund\n",
      "157         Togo              Togo\n",
      "\n",
      "[158 rows x 2 columns]\n"
     ]
    },
    {
     "name": "stderr",
     "output_type": "stream",
     "text": [
      "C:\\Users\\sha\\AppData\\Local\\Temp\\ipykernel_15924\\3849086628.py:2: SettingWithCopyWarning: \n",
      "A value is trying to be set on a copy of a slice from a DataFrame.\n",
      "Try using .loc[row_indexer,col_indexer] = value instead\n",
      "\n",
      "See the caveats in the documentation: https://pandas.pydata.org/pandas-docs/stable/user_guide/indexing.html#returning-a-view-versus-a-copy\n",
      "  df_country_only['first_six_letters'] = df_country_only['Country'].str[:6]\n"
     ]
    }
   ],
   "source": [
    "# Extract the first 6 letters of each country and add to a new column\n",
    "df_country_only['first_six_letters'] = df_country_only['Country'].str[:6]\n",
    "\n",
    "# Display the DataFrame with the new column\n",
    "print(df_country_only)\n"
   ]
  },
  {
   "cell_type": "code",
   "execution_count": 193,
   "id": "9a75c2e7-de98-477a-8e6e-243254064ea2",
   "metadata": {},
   "outputs": [
    {
     "name": "stdout",
     "output_type": "stream",
     "text": [
      "\"ValidString_123\" is valid.\n"
     ]
    }
   ],
   "source": [
    "test_string = \"ValidString_123\"  # Replace with any string you want to test\n",
    "\n",
    "# Regular expression pattern\n",
    "pattern = r'[A-Za-z0-9_]+'\n",
    "\n",
    "# Check if the string matches the pattern\n",
    "if re.fullmatch(pattern, test_string):\n",
    "    print(f'\"{test_string}\" is valid.')\n",
    "else:\n",
    "    print(f'\"{test_string}\" is invalid.')\n"
   ]
  },
  {
   "cell_type": "code",
   "execution_count": 195,
   "id": "27fd5c7f-cd0e-4779-a6a3-ac121a551541",
   "metadata": {},
   "outputs": [
    {
     "name": "stdout",
     "output_type": "stream",
     "text": [
      "\"123abc\" starts with 123.\n"
     ]
    }
   ],
   "source": [
    "specific_number = '123'  # Change this to the number you want to check for\n",
    "\n",
    "# Test string\n",
    "test_string = \"123abc\"  # Replace this with the string you want to test\n",
    "\n",
    "# Regular expression pattern to check if the string starts with the specific number\n",
    "pattern = rf'^{specific_number}'\n",
    "\n",
    "# Check if the string starts with the specific number\n",
    "if re.match(pattern, test_string):\n",
    "    print(f'\"{test_string}\" starts with {specific_number}.')\n",
    "else:\n",
    "    print(f'\"{test_string}\" does not start with {specific_number}.')\n"
   ]
  },
  {
   "cell_type": "code",
   "execution_count": 197,
   "id": "2991183d-81e8-4f76-987c-39901237ed02",
   "metadata": {},
   "outputs": [
    {
     "name": "stdout",
     "output_type": "stream",
     "text": [
      "Original IP: 192.168.001.001\n",
      "Cleaned IP: 192.168.1.1\n"
     ]
    }
   ],
   "source": [
    "# Define the IP address\n",
    "ip_address = \"192.168.001.001\" \n",
    "\n",
    "pattern = r'\\b0+(\\d+)'\n",
    "\n",
    "# Remove leading zeros\n",
    "cleaned_ip = re.sub(pattern, r'\\1', ip_address)\n",
    "\n",
    "# Print the result\n",
    "print(f\"Original IP: {ip_address}\")\n",
    "print(f\"Cleaned IP: {cleaned_ip}\")\n"
   ]
  },
  {
   "cell_type": "code",
   "execution_count": 219,
   "id": "23c28328-b667-40ed-befe-0a68b7f392b7",
   "metadata": {},
   "outputs": [
    {
     "name": "stdout",
     "output_type": "stream",
     "text": [
      "August 15th 1947\n"
     ]
    }
   ],
   "source": [
    "# Write sample text to a file\n",
    "with open('sample.txt', 'w') as file:\n",
    "    file.write(\"On August 15th 1947 that India was declared independent from British colonialism, and the reins of control were handed over to the leaders of the Country.\")\n",
    "with open('sample.txt', 'r') as file:\n",
    "    text = file.read()\n",
    "\n",
    "\n",
    "date = re.search(r'\\w+ \\d+\\w* \\d{4}', text)\n",
    "\n",
    "# Print the matched date\n",
    "if date:\n",
    "    print(date.group())\n"
   ]
  },
  {
   "cell_type": "code",
   "execution_count": 226,
   "id": "79902896-a8a0-41f7-848a-c4af9aaff4ec",
   "metadata": {},
   "outputs": [
    {
     "data": {
      "text/plain": [
       "['fox', 'dog']"
      ]
     },
     "execution_count": 226,
     "metadata": {},
     "output_type": "execute_result"
    }
   ],
   "source": [
    "text = 'The quick brown fox jumps over the lazy dog.'\n",
    "pattern = r'fox|dog|horse'\n",
    "s = re.findall(pattern,text)\n",
    "s"
   ]
  },
  {
   "cell_type": "code",
   "execution_count": 232,
   "id": "a59af54d-cecf-4b75-b528-2a1004167828",
   "metadata": {},
   "outputs": [
    {
     "data": {
      "text/plain": [
       "<re.Match object; span=(16, 19), match='fox'>"
      ]
     },
     "execution_count": 232,
     "metadata": {},
     "output_type": "execute_result"
    }
   ],
   "source": [
    "text = 'The quick brown fox jumps over the lazy dog.'\n",
    "pattern = r'fox'\n",
    "s = re.search(pattern,text)\n",
    "s"
   ]
  },
  {
   "cell_type": "code",
   "execution_count": 236,
   "id": "0d2d33c7-e0a3-49cc-8dcb-e5faea1957ce",
   "metadata": {},
   "outputs": [
    {
     "name": "stdout",
     "output_type": "stream",
     "text": [
      "['exercises', 'exercises', 'exercises']\n"
     ]
    }
   ],
   "source": [
    "text = 'Python exercises, PHP exercises, C# exercises'\n",
    "pattern = 'exercises'\n",
    "subst = re.findall(pattern, text)\n",
    "\n",
    "# Print the result\n",
    "print(subst)\n"
   ]
  },
  {
   "cell_type": "code",
   "execution_count": 265,
   "id": "666bff45-51c5-419f-af2c-5d70b377e7d4",
   "metadata": {},
   "outputs": [
    {
     "name": "stdout",
     "output_type": "stream",
     "text": [
      "Found 'exercises' at position 7 to 16\n",
      "Found 'exercises' at position 22 to 31\n",
      "Found 'exercises' at position 36 to 45\n"
     ]
    }
   ],
   "source": [
    "text = 'Python exercises, PHP exercises, C# exercises'\n",
    "pattern = 'exercises'\n",
    "matches = re.finditer(pattern, text)\n",
    "\n",
    "# Print each match's occurrence and position\n",
    "for match in matches:\n",
    "    print(f\"Found '{match.group()}' at position {match.start()} to {match.end()}\")\n"
   ]
  },
  {
   "cell_type": "code",
   "execution_count": 267,
   "id": "3ee92cc8-7ab8-42a9-a66f-43c0c62436e6",
   "metadata": {},
   "outputs": [
    {
     "name": "stdout",
     "output_type": "stream",
     "text": [
      "22-08-2024\n"
     ]
    }
   ],
   "source": [
    "# Sample date in yyyy-mm-dd format\n",
    "date = '2024-08-22'\n",
    "\n",
    "# Convert to dd-mm-yyyy format\n",
    "converted_date = date.split('-')[2] + '-' + date.split('-')[1] + '-' + date.split('-')[0]\n",
    "\n",
    "# Print the result\n",
    "print(converted_date)\n"
   ]
  },
  {
   "cell_type": "code",
   "execution_count": 269,
   "id": "ade2ded2-93de-47f5-a2c0-7ba33f225e57",
   "metadata": {},
   "outputs": [
    {
     "name": "stdout",
     "output_type": "stream",
     "text": [
      "['01.12', '145.8', '3.01', '27.25', '0.25']\n"
     ]
    }
   ],
   "source": [
    "def find_decimals(text):\n",
    "    \n",
    "    pattern = re.compile(r'\\b\\d*\\.\\d{1,2}\\b')\n",
    "    \n",
    "    \n",
    "    return pattern.findall(text)\n",
    "\n",
    "# Sample text\n",
    "text = \"01.12 0132.123 2.31875 145.8 3.01 27.25 0.25\"\n",
    "\n",
    "# Find and print all decimal numbers with precision of 1 or 2\n",
    "print(find_decimals(text))\n"
   ]
  },
  {
   "cell_type": "code",
   "execution_count": 271,
   "id": "ae7ec08e-582a-485b-9a1f-2444998cccc0",
   "metadata": {},
   "outputs": [
    {
     "name": "stdout",
     "output_type": "stream",
     "text": [
      "Number: 100, Position: 13-16\n",
      "Number: 23.50, Position: 45-50\n",
      "Number: 123.45, Position: 62-68\n"
     ]
    }
   ],
   "source": [
    "def find_numbers_with_positions(text):\n",
    "    # Define the regex pattern for matching numbers\n",
    "    pattern = re.compile(r'\\d+\\.?\\d*')\n",
    "    \n",
    "    # Use re.finditer to find all matches\n",
    "    for match in pattern.finditer(text):\n",
    "        number = match.group()\n",
    "        start_pos = match.start()\n",
    "        end_pos = match.end()\n",
    "        print(f\"Number: {number}, Position: {start_pos}-{end_pos}\")\n",
    "\n",
    "# Sample text\n",
    "text = \"The price is 100 dollars and the discount is 23.50 off, total 123.45.\"\n",
    "\n",
    "# Find and print all numbers with their positions\n",
    "find_numbers_with_positions(text)\n"
   ]
  },
  {
   "cell_type": "code",
   "execution_count": 273,
   "id": "3aa5d39f-7004-4bc7-9b4e-01078e7958dd",
   "metadata": {},
   "outputs": [],
   "source": [
    "text = 'My marks in each semester are: 947, 896, 926, 524, 734, 950, 642'\n",
    "\n",
    "# Find all numeric values\n",
    "numbers = re.findall(r'\\d+', text)\n",
    "\n",
    "\n"
   ]
  },
  {
   "cell_type": "code",
   "execution_count": 275,
   "id": "76b33ef7-cabf-44b4-86a4-f2ec938796a2",
   "metadata": {},
   "outputs": [
    {
     "name": "stdout",
     "output_type": "stream",
     "text": [
      "Maximum value: 950\n"
     ]
    }
   ],
   "source": [
    "# Convert to integers and find the maximum\n",
    "max_value = max(int(num) for num in numbers)\n",
    "\n",
    "# Print the maximum value\n",
    "print(\"Maximum value:\", max_value)"
   ]
  },
  {
   "cell_type": "code",
   "execution_count": 277,
   "id": "d41f3112-cc77-498f-874e-cfcc54f77559",
   "metadata": {},
   "outputs": [
    {
     "name": "stdout",
     "output_type": "stream",
     "text": [
      "Regular Expression Is An Important Topic In Python\n"
     ]
    }
   ],
   "source": [
    "text = \"RegularExpressionIsAnImportantTopicInPython\"\n",
    "\n",
    "# Insert spaces before each capital letter (except the first one)\n",
    "result = re.sub(r'(?<!^)(?=[A-Z])', ' ', text)\n",
    "\n",
    "# Print the result\n",
    "print(result)\n"
   ]
  },
  {
   "cell_type": "code",
   "execution_count": 281,
   "id": "d8d6854d-4e5d-42d3-88fa-e095dbb33544",
   "metadata": {},
   "outputs": [
    {
     "name": "stdout",
     "output_type": "stream",
     "text": [
      "['My', 'Name', 'Is', 'Khan', 'Your']\n"
     ]
    }
   ],
   "source": [
    "text = \"My Name Is Khan what is Your name.\"\n",
    "pattern = r'\\b[A-Z][a-z]*\\b'\n",
    "matches = re.findall(pattern, text)\n",
    "\n",
    "print(matches)\n"
   ]
  },
  {
   "cell_type": "code",
   "execution_count": 289,
   "id": "9dcffa49-6c40-4865-a6c6-568b229a47fa",
   "metadata": {},
   "outputs": [
    {
     "name": "stdout",
     "output_type": "stream",
     "text": [
      "Hello world\n"
     ]
    }
   ],
   "source": [
    "text = \"Hello hello world world\"\n",
    "pattern = r'\\b(\\w+)\\s+\\1\\b'\n",
    "result = re.sub(pattern, r'\\1', text, flags=re.IGNORECASE)\n",
    "\n",
    "# Print the result\n",
    "print(result)\n"
   ]
  },
  {
   "cell_type": "code",
   "execution_count": 291,
   "id": "5c54c5d8-6586-42bf-b01f-bb309a80fa91",
   "metadata": {},
   "outputs": [
    {
     "name": "stdout",
     "output_type": "stream",
     "text": [
      "True\n"
     ]
    }
   ],
   "source": [
    "text = \"dhjdfhfjdsh12333\"\n",
    "\n",
    "# Check if the text ends with an alphanumeric character\n",
    "result = bool(re.search(r'[a-zA-Z0-9]$', text))\n",
    "\n",
    "# Print the result\n",
    "print(result)"
   ]
  },
  {
   "cell_type": "code",
   "execution_count": 293,
   "id": "01532102-68a5-4005-ae8f-c215c4dbf4e1",
   "metadata": {},
   "outputs": [
    {
     "name": "stdout",
     "output_type": "stream",
     "text": [
      "['#Doltiwal', '#xyzabc', '#Demonetization']\n"
     ]
    }
   ],
   "source": [
    "text = \"\"\"RT @kapil_kausik: #Doltiwal I mean #xyzabc is \"hurt\" by #Demonetization as the same has rendered USELESS <ed><U+00A0><U+00BD><ed><U+00B1><U+0089> \"acquired funds\" No wo\"\"\"\n",
    "\n",
    "# Define the regex pattern to match hashtags\n",
    "pattern = r'#\\w+'\n",
    "\n",
    "# Find all hashtags using re.findall\n",
    "hashtags = re.findall(pattern, text)\n",
    "\n",
    "# Print the result\n",
    "print(hashtags)\n"
   ]
  },
  {
   "cell_type": "code",
   "execution_count": 295,
   "id": "b583e74b-74d8-4f28-b600-0075db4c1f6d",
   "metadata": {},
   "outputs": [
    {
     "name": "stdout",
     "output_type": "stream",
     "text": [
      "@Jags123456 Bharat band on 28??<ed><ed>Those who  are protesting #demonetization  are all different party leaders\n"
     ]
    }
   ],
   "source": [
    "text = \"@Jags123456 Bharat band on 28??<ed><U+00A0><U+00BD><ed><U+00B8><U+0082>Those who  are protesting #demonetization  are all different party leaders\"\n",
    "\n",
    "# Define the regex pattern to match <U+..> symbols\n",
    "pattern = r'<U\\+[0-9A-Fa-f]{4}>'\n",
    "\n",
    "# Remove the <U+..> symbols\n",
    "cleaned_text = re.sub(pattern, '', text)\n",
    "\n",
    "# Print the result\n",
    "print(cleaned_text)\n"
   ]
  },
  {
   "cell_type": "code",
   "execution_count": 297,
   "id": "3b709e05-3626-4e54-b357-6d76fa584fae",
   "metadata": {},
   "outputs": [],
   "source": [
    "# Write sample text to a file\n",
    "with open('code.txt', 'w') as file:\n",
    "    file.write('Ron was born on 12-09-1992 and he was admitted to school 15-12-1999.')\n"
   ]
  },
  {
   "cell_type": "code",
   "execution_count": 299,
   "id": "5d7eb7a1-0da8-4cd4-b725-5cd96eae3bc3",
   "metadata": {},
   "outputs": [
    {
     "name": "stdout",
     "output_type": "stream",
     "text": [
      "['12-09-1992', '15-12-1999']\n"
     ]
    }
   ],
   "source": [
    "with open('code.txt', 'r') as file:\n",
    "    text = file.read()\n",
    "\n",
    "pattern = r'\\b\\d{2}-\\d{2}-\\d{4}\\b'\n",
    "\n",
    "dates = re.findall(pattern, text)\n",
    "\n",
    "# Print the extracted dates\n",
    "print(dates)\n"
   ]
  },
  {
   "cell_type": "code",
   "execution_count": 301,
   "id": "3468795c-ebc5-42b4-9ba2-bd80269bd5db",
   "metadata": {},
   "outputs": [
    {
     "name": "stdout",
     "output_type": "stream",
     "text": [
      "following example creates ArrayList a capacity elements. 4 elements added ArrayList ArrayList trimmed accordingly.\n"
     ]
    }
   ],
   "source": [
    "def remove_short_words(text):\n",
    "    \n",
    "    pattern = re.compile(r'\\b\\w{2,4}\\b')\n",
    "\n",
    "    result = pattern.sub('', text)\n",
    "    \n",
    "  \n",
    "    result = re.sub(r'\\s+', ' ', result).strip()\n",
    "    \n",
    "    return result\n",
    "\n",
    "# Sample text\n",
    "text = \"The following example creates an ArrayList with a capacity of 50 elements. 4 elements are then added to the ArrayList and the ArrayList is trimmed accordingly.\"\n",
    "\n",
    "# Call the function and print the result\n",
    "print(remove_short_words(text))\n"
   ]
  },
  {
   "cell_type": "code",
   "execution_count": null,
   "id": "52516135-08d1-4c89-a8e4-a83426d5bc7e",
   "metadata": {},
   "outputs": [],
   "source": []
  }
 ],
 "metadata": {
  "kernelspec": {
   "display_name": "Python 3 (ipykernel)",
   "language": "python",
   "name": "python3"
  },
  "language_info": {
   "codemirror_mode": {
    "name": "ipython",
    "version": 3
   },
   "file_extension": ".py",
   "mimetype": "text/x-python",
   "name": "python",
   "nbconvert_exporter": "python",
   "pygments_lexer": "ipython3",
   "version": "3.11.5"
  }
 },
 "nbformat": 4,
 "nbformat_minor": 5
}
